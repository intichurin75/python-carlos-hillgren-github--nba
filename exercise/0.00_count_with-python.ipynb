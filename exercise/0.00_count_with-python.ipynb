{
 "cells": [
  {
   "cell_type": "markdown",
   "metadata": {},
   "source": [
    "# 0. Pythagorean theorem (*)"
   ]
  },
  {
   "cell_type": "code",
   "execution_count": 7,
   "metadata": {},
   "outputs": [
    {
     "name": "stdout",
     "output_type": "stream",
     "text": [
      "Triangelns hypotenusa är: 5 längd enheter\n"
     ]
    }
   ],
   "source": [
    "import math\n",
    "\n",
    "def pythagoras(a,b):\n",
    "    c2 = a*a + b*b\n",
    "    c = math.sqrt(c2)\n",
    "    return c\n",
    "\n",
    "hypotenusan = int(pythagoras(3,4))\n",
    "print(f\"Triangelns hypotenusa är: {hypotenusan} längd enheter\")\n"
   ]
  },
  {
   "cell_type": "code",
   "execution_count": 12,
   "metadata": {},
   "outputs": [
    {
     "name": "stdout",
     "output_type": "stream",
     "text": [
      "Kateten B i triangeln är: 4.9 längd enheter\n"
     ]
    }
   ],
   "source": [
    "def pythagoras(c,a):\n",
    "    b2 = c*c- a*a\n",
    "    katetenB = math.sqrt(b2)\n",
    "    return katetenB\n",
    "\n",
    "katetenB = round(pythagoras(7.0,5.0),1)\n",
    "print(f\"Kateten B i triangeln är: {katetenB} längd enheter\")"
   ]
  }
 ],
 "metadata": {
  "kernelspec": {
   "display_name": "venv",
   "language": "python",
   "name": "python3"
  },
  "language_info": {
   "codemirror_mode": {
    "name": "ipython",
    "version": 3
   },
   "file_extension": ".py",
   "mimetype": "text/x-python",
   "name": "python",
   "nbconvert_exporter": "python",
   "pygments_lexer": "ipython3",
   "version": "3.11.7"
  }
 },
 "nbformat": 4,
 "nbformat_minor": 2
}
