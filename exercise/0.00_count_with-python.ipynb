{
 "cells": [
  {
   "cell_type": "markdown",
   "metadata": {},
   "source": [
    "# Exercise - Count with Python"
   ]
  },
  {
   "cell_type": "markdown",
   "metadata": {},
   "source": [
    "### 0. Pythagorean theorem (*)"
   ]
  },
  {
   "cell_type": "code",
   "execution_count": 7,
   "metadata": {},
   "outputs": [
    {
     "name": "stdout",
     "output_type": "stream",
     "text": [
      "Triangelns hypotenusa är: 5 längd enheter\n"
     ]
    }
   ],
   "source": [
    "import math\n",
    "\n",
    "def pythagoras(a,b):\n",
    "    c2 = a*a + b*b\n",
    "    c = math.sqrt(c2)\n",
    "    return c\n",
    "\n",
    "hypotenusan = int(pythagoras(3,4))\n",
    "print(f\"Triangelns hypotenusa är: {hypotenusan} längd enheter\")\n"
   ]
  },
  {
   "cell_type": "code",
   "execution_count": 12,
   "metadata": {},
   "outputs": [
    {
     "name": "stdout",
     "output_type": "stream",
     "text": [
      "Kateten B i triangeln är: 4.9 längd enheter\n"
     ]
    }
   ],
   "source": [
    "def pythagoras(c,a):\n",
    "    b2 = c*c- a*a\n",
    "    katetenB = math.sqrt(b2)\n",
    "    return katetenB\n",
    "\n",
    "katetenB = round(pythagoras(7.0,5.0),1)\n",
    "print(f\"Kateten B i triangeln är: {katetenB} längd enheter\")"
   ]
  },
  {
   "cell_type": "markdown",
   "metadata": {},
   "source": [
    "### Classification accuracy (*)"
   ]
  },
  {
   "cell_type": "code",
   "execution_count": 5,
   "metadata": {},
   "outputs": [
    {
     "name": "stdout",
     "output_type": "stream",
     "text": [
      "Noggranheten i decimal : 0.821917808219178\n",
      "Noggranheten i procen: 82.19\n"
     ]
    }
   ],
   "source": [
    "import math\n",
    "\n",
    "nmbr_predictions = 365\n",
    "nmbr_correctPred = 300\n",
    "\n",
    "accuracy = nmbr_correctPred/ nmbr_predictions\n",
    "print(f\"Noggranheten i decimal : {accuracy}\")\n",
    "accuracy_percent = round(accuracy *100,2)\n",
    "print(f\"Noggranheten i procent: {accuracy_percent}\")\n"
   ]
  },
  {
   "cell_type": "code",
   "execution_count": 6,
   "metadata": {},
   "outputs": [
    {
     "name": "stdout",
     "output_type": "stream",
     "text": [
      "0.987\n"
     ]
    }
   ],
   "source": [
    "tp = 2 # antal som man förutspått som bröt ut\n",
    "fp = 2 # antal som man förutpått men inte bröt ut\n",
    "fn = 11 # antal som man förutspått inte kommer bryta ut men var fel. Brand\n",
    "tn = 985 # antal som man förutspått inte kommer bryta ut som vr sant.Falsk larm\n",
    "\n",
    "accuracy2 = (2 + 985)/ (2+985+2+11) # 13 bränder , 985 falsklarm\n",
    "print(accuracy2)"
   ]
  },
  {
   "cell_type": "markdown",
   "metadata": {},
   "source": [
    "### Line"
   ]
  },
  {
   "cell_type": "code",
   "execution_count": 1,
   "metadata": {},
   "outputs": [
    {
     "name": "stdout",
     "output_type": "stream",
     "text": [
      "Kofficienten: 0.75\n",
      "m: 1.0\n",
      "Ekvationen: y = 0.75*x + 1\n"
     ]
    }
   ],
   "source": [
    "import math\n",
    "\n",
    "x1 = 4\n",
    "y1 = 4\n",
    "x2 = 0\n",
    "y2 = 1\n",
    "\n",
    "a = (x1,y1)\n",
    "b = (x2,y2)\n",
    "\n",
    "k =(y2 - y1)/(x2 - x1)\n",
    "print(f\"Kofficienten: {k}\")\n",
    "\n",
    "m =(y1-(k*x1))\n",
    "print(f\"m: {m}\")\n",
    "print(\"Ekvationen: y = 0.75*x + 1\")\n",
    "\n"
   ]
  },
  {
   "cell_type": "markdown",
   "metadata": {},
   "source": [
    "### Euklidean distance "
   ]
  },
  {
   "cell_type": "code",
   "execution_count": 9,
   "metadata": {},
   "outputs": [
    {
     "name": "stdout",
     "output_type": "stream",
     "text": [
      "Avståndet är : 5.1 l.e\n"
     ]
    }
   ],
   "source": [
    "import math\n",
    "x1 = 3\n",
    "y1 = 5\n",
    "x2 = -2\n",
    "y2 = 4\n",
    "\n",
    "p1 = (x1,y1)\n",
    "p2 = (x2,y2)\n",
    "\n",
    "p_avst2 = ((x2- x1)**2) + ((y2-y1)**2)\n",
    "#p_avst =((-2-3)**2) + ((4-5)**2)\n",
    "#print(p_avst)\n",
    "p_avst = math.sqrt(p_avst2)\n",
    "print(f\"Avståndet är : {round(p_avst,1)} l.e\")\n"
   ]
  }
 ],
 "metadata": {
  "kernelspec": {
   "display_name": "venv",
   "language": "python",
   "name": "python3"
  },
  "language_info": {
   "codemirror_mode": {
    "name": "ipython",
    "version": 3
   },
   "file_extension": ".py",
   "mimetype": "text/x-python",
   "name": "python",
   "nbconvert_exporter": "python",
   "pygments_lexer": "ipython3",
   "version": "3.11.7"
  }
 },
 "nbformat": 4,
 "nbformat_minor": 2
}
