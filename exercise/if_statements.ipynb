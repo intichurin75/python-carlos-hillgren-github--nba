{
 "cells": [
  {
   "cell_type": "markdown",
   "metadata": {},
   "source": [
    "# Exercise - if statements\n"
   ]
  },
  {
   "cell_type": "markdown",
   "metadata": {},
   "source": [
    "### 0. Check sign"
   ]
  },
  {
   "cell_type": "code",
   "execution_count": 4,
   "metadata": {},
   "outputs": [
    {
     "name": "stdout",
     "output_type": "stream",
     "text": [
      "Numret är positivt\n"
     ]
    }
   ],
   "source": [
    "number = int(input(\"Mata in ett nummer\"))\n",
    "if number < 0:\n",
    "    print(\"Numret är negativt\")\n",
    "elif number == 0:\n",
    "    print(\"Numret är noll\")\n",
    "else:\n",
    "    print(\"Numret är positivt\")\n",
    "\n"
   ]
  },
  {
   "cell_type": "markdown",
   "metadata": {},
   "source": [
    "### Smallest"
   ]
  },
  {
   "cell_type": "code",
   "execution_count": 13,
   "metadata": {},
   "outputs": [
    {
     "name": "stdout",
     "output_type": "stream",
     "text": [
      "Nummer 2 är minst\n"
     ]
    }
   ],
   "source": [
    "number1 = int(input(\"Mata in ett nummer\"))\n",
    "number2 = int(input(\"Mata in ett ytterligare nummer\"))\n",
    "\n",
    "if number1 == number2:\n",
    "    print(f\"Nummer {number1} och nummer {number2} är lika\")\n",
    "elif number1 < number2:\n",
    "    print(f\"Nummer {number1} är minst\")\n",
    "else:\n",
    "    print(f\"Nummer {number2} är minst\")\n",
    "\n",
    "\n",
    "\n"
   ]
  }
 ],
 "metadata": {
  "kernelspec": {
   "display_name": "venv",
   "language": "python",
   "name": "python3"
  },
  "language_info": {
   "codemirror_mode": {
    "name": "ipython",
    "version": 3
   },
   "file_extension": ".py",
   "mimetype": "text/x-python",
   "name": "python",
   "nbconvert_exporter": "python",
   "pygments_lexer": "ipython3",
   "version": "3.11.7"
  }
 },
 "nbformat": 4,
 "nbformat_minor": 2
}
