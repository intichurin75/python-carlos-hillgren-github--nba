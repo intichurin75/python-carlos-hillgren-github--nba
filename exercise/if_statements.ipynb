{
 "cells": [
  {
   "cell_type": "markdown",
   "metadata": {},
   "source": [
    "# Exercise - if statements\n"
   ]
  },
  {
   "cell_type": "markdown",
   "metadata": {},
   "source": [
    "### 0. Check sign"
   ]
  },
  {
   "cell_type": "code",
   "execution_count": 3,
   "metadata": {},
   "outputs": [
    {
     "name": "stdout",
     "output_type": "stream",
     "text": [
      "Numret är noll\n"
     ]
    }
   ],
   "source": [
    "number = int(input(\"Mata in ett nummer\"))\n",
    "if number < 0:\n",
    "    print(\"Numret är negativt\")\n",
    "elif number == 0:\n",
    "    print(\"Numret är noll\")\n",
    "else:\n",
    "    print(\"Numret är positivt\")\n",
    "\n"
   ]
  },
  {
   "cell_type": "markdown",
   "metadata": {},
   "source": [
    "### Smallest"
   ]
  },
  {
   "cell_type": "code",
   "execution_count": 4,
   "metadata": {},
   "outputs": [
    {
     "name": "stdout",
     "output_type": "stream",
     "text": [
      "Nummer 11 och nummer 11 är lika\n"
     ]
    }
   ],
   "source": [
    "number1 = int(input(\"Mata in ett nummer\"))\n",
    "number2 = int(input(\"Mata in ett ytterligare nummer\"))\n",
    "\n",
    "if number1 == number2:\n",
    "    print(f\"Nummer {number1} och nummer {number2} är lika\")\n",
    "elif number1 < number2:\n",
    "    print(f\"Nummer {number1} är minst\")\n",
    "else:\n",
    "    print(f\"Nummer {number2} är minst\")\n",
    "\n",
    "\n",
    "\n"
   ]
  },
  {
   "cell_type": "markdown",
   "metadata": {},
   "source": [
    "### Right angle"
   ]
  },
  {
   "cell_type": "code",
   "execution_count": 11,
   "metadata": {},
   "outputs": [
    {
     "name": "stdout",
     "output_type": "stream",
     "text": [
      "Det är en rätvinklig triangel\n"
     ]
    }
   ],
   "source": [
    "vinkln1 = int(input(\"Mata in antal grader för vinkel ett\")) # ber användaren mata in grader för vardera vinkel\n",
    "vinkln2 = int(input(\"Mata in antal grader för vinkel två\"))\n",
    "vinkln3 = int(input(\"Mata in antal grader för vinkel tre\"))\n",
    "\n",
    "if vinkln1 + vinkln2 + vinkln3 == 180: #Summan 180 verifierar en giltig triangel\n",
    "    if vinkln1 == 90 or vinkln2 == 90 or vinkln3 == 90: # om triangeln är gitltig så kollar man om det finns en 90 grader vinkel \n",
    "        print(\"Det är en rätvinklig triangel\")\n",
    "    else: \n",
    "        print(\"Det är inte en rätvinklig triangel\")\n",
    "else: \n",
    "    print(\"Det är inte en giltig triangel\")\n",
    "\n"
   ]
  },
  {
   "cell_type": "code",
   "execution_count": 36,
   "metadata": {},
   "outputs": [
    {
     "name": "stdout",
     "output_type": "stream",
     "text": [
      "Inga rekommendationer finns för angiven ålder och vikt.\n"
     ]
    }
   ],
   "source": [
    "age = int (input(\"Mata in din ålder\"))\n",
    "weight = float(input(\"Mata in din vikt i kg\"))\n",
    "\n",
    "if weight > 40: # om detta är sant \n",
    "    if age >= 12: # kolla sen detta vilkor\n",
    "        print(\"Du ska ha en 1 till 2 tabletter.\")\n",
    "    else:\n",
    "        print(\"Inga rekommendationer finns för angiven ålder och vikt.\")\n",
    "elif weight >= 26 or weight <=40:\n",
    "    if age >= 7 and age < 12:\n",
    "        print(\"Du ska ha 1/2 till 1 tablett\")\n",
    "    else:\n",
    "        print(\"Inga rekommendationer finns för angiven ålder och vikt.\")\n",
    "elif weight >= 15 or weight <=25:\n",
    "    if age >= 3 and age <= 7:\n",
    "        print(\"Du skall ha en halv tablett.\")\n",
    "    else:\n",
    "        print(\"Inga rekommendationer finns för angiven ålder och vikt.\")\n",
    "else:\n",
    "    print(\"Inga rekommendationer finns för angiven ålder och vikt.\")\n",
    "\n",
    "\n",
    "\n"
   ]
  },
  {
   "cell_type": "markdown",
   "metadata": {},
   "source": [
    "### Divisible"
   ]
  },
  {
   "cell_type": "code",
   "execution_count": 47,
   "metadata": {},
   "outputs": [
    {
     "name": "stdout",
     "output_type": "stream",
     "text": [
      "Siffran är ojämn\n",
      "15.0 går att dela på 5\n",
      "15.0 är delbart med 5 och är udda tal\n"
     ]
    }
   ],
   "source": [
    "number = float(input(\"Mata in en valfri siffra\"))\n",
    "\n",
    "if number % 2 == 0:\n",
    "    print(\"Siffran är jämn\")\n",
    "else:\n",
    "    print(\"Siffran är ojämn\")\n",
    "\n",
    "if number % 5 == 0:\n",
    "    print(f\"{number} går att dela på 5\")\n",
    "else:\n",
    "    print(f\"{number} går inte att dela på 5\")\n",
    "\n",
    "if number % 5 == 0 and number % 2 != 0:\n",
    "    print(f\"{number} är delbart med 5 och är udda tal\")\n",
    "else:\n",
    "    print(f\"{number} är inte delbart med 5 och udda\")\n"
   ]
  },
  {
   "cell_type": "markdown",
   "metadata": {},
   "source": [
    "### Luggage size\n"
   ]
  },
  {
   "cell_type": "code",
   "execution_count": 51,
   "metadata": {},
   "outputs": [
    {
     "name": "stdout",
     "output_type": "stream",
     "text": [
      "Ditt bagage har inte rätt vikt\n"
     ]
    }
   ],
   "source": [
    "weight = float(input(\"Lägg in vikt på bagaget(kg): \"))\n",
    "\n",
    "bagage_length = float(input(\"Mata in längd på bagaget(cm): \"))\n",
    "bagage_width = float(input(\"Mata in bredden på bagaget(cm): \"))\n",
    "bagage_height = float(input(\"Mata in höjd på bagaget(cm): \"))\n",
    "\n",
    "if weight <= 8:\n",
    "    if bagage_length <= 55 and bagage_width <= 40 and bagage_height <= 23:\n",
    "        print(\"Ditt bagage storlek är godkänt\")\n",
    "    else:\n",
    "        print(\"Inte godkänt storlek på bagaget \")\n",
    "else:\n",
    "    print(\"Ditt bagage har inte rätt vikt\")"
   ]
  }
 ],
 "metadata": {
  "kernelspec": {
   "display_name": "venv",
   "language": "python",
   "name": "python3"
  },
  "language_info": {
   "codemirror_mode": {
    "name": "ipython",
    "version": 3
   },
   "file_extension": ".py",
   "mimetype": "text/x-python",
   "name": "python",
   "nbconvert_exporter": "python",
   "pygments_lexer": "ipython3",
   "version": "3.11.7"
  }
 },
 "nbformat": 4,
 "nbformat_minor": 2
}
