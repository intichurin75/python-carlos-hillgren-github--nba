{
 "cells": [
  {
   "cell_type": "markdown",
   "metadata": {},
   "source": [
    "# Exercise - while statement"
   ]
  },
  {
   "cell_type": "markdown",
   "metadata": {},
   "source": [
    "### Count numbers"
   ]
  },
  {
   "cell_type": "code",
   "execution_count": null,
   "metadata": {},
   "outputs": [],
   "source": [
    "x = -10\n",
    "\n",
    "while x <= 10:\n",
    "    print(x)\n",
    "    x += 1"
   ]
  },
  {
   "cell_type": "markdown",
   "metadata": {},
   "source": [
    "### Arithmetic sum"
   ]
  },
  {
   "cell_type": "code",
   "execution_count": 1,
   "metadata": {},
   "outputs": [
    {
     "name": "stdout",
     "output_type": "stream",
     "text": [
      "1 + 2\n",
      "3 + 3\n",
      "6 + 4\n",
      "10 + 5\n",
      "15 + 6\n",
      "21 + 7\n",
      "28 + 8\n",
      "36 + 9\n",
      "45 + 10\n",
      "55 + 11\n",
      "66 + 12\n",
      "78 + 13\n",
      "91 + 14\n",
      "105 + 15\n",
      "120 + 16\n",
      "136 + 17\n",
      "153 + 18\n",
      "171 + 19\n",
      "190 + 20\n",
      "210 + 21\n",
      "231 + 22\n",
      "253 + 23\n",
      "276 + 24\n",
      "300 + 25\n",
      "325 + 26\n",
      "351 + 27\n",
      "378 + 28\n",
      "406 + 29\n",
      "435 + 30\n",
      "465 + 31\n",
      "496 + 32\n",
      "528 + 33\n",
      "561 + 34\n",
      "595 + 35\n",
      "630 + 36\n",
      "666 + 37\n",
      "703 + 38\n",
      "741 + 39\n",
      "780 + 40\n",
      "820 + 41\n",
      "861 + 42\n",
      "903 + 43\n",
      "946 + 44\n",
      "990 + 45\n",
      "1035 + 46\n",
      "1081 + 47\n",
      "1128 + 48\n",
      "1176 + 49\n",
      "1225 + 50\n",
      "1275 + 51\n",
      "1326 + 52\n",
      "1378 + 53\n",
      "1431 + 54\n",
      "1485 + 55\n",
      "1540 + 56\n",
      "1596 + 57\n",
      "1653 + 58\n",
      "1711 + 59\n",
      "1770 + 60\n",
      "1830 + 61\n",
      "1891 + 62\n",
      "1953 + 63\n",
      "2016 + 64\n",
      "2080 + 65\n",
      "2145 + 66\n",
      "2211 + 67\n",
      "2278 + 68\n",
      "2346 + 69\n",
      "2415 + 70\n",
      "2485 + 71\n",
      "2556 + 72\n",
      "2628 + 73\n",
      "2701 + 74\n",
      "2775 + 75\n",
      "2850 + 76\n",
      "2926 + 77\n",
      "3003 + 78\n",
      "3081 + 79\n",
      "3160 + 80\n",
      "3240 + 81\n",
      "3321 + 82\n",
      "3403 + 83\n",
      "3486 + 84\n",
      "3570 + 85\n",
      "3655 + 86\n",
      "3741 + 87\n",
      "3828 + 88\n",
      "3916 + 89\n",
      "4005 + 90\n",
      "4095 + 91\n",
      "4186 + 92\n",
      "4278 + 93\n",
      "4371 + 94\n",
      "4465 + 95\n",
      "4560 + 96\n",
      "4656 + 97\n",
      "4753 + 98\n",
      "4851 + 99\n",
      "4950 + 100\n",
      "5050 + 101\n",
      "5050\n"
     ]
    }
   ],
   "source": [
    "sum = 0\n",
    "x = 1\n",
    "while x <= 100:\n",
    "    sum += x\n",
    "    x+= 1\n",
    "    print(f\"{sum} + {x}\")\n",
    "    \n",
    "print(sum)\n",
    "\n",
    "    \n"
   ]
  },
  {
   "cell_type": "code",
   "execution_count": null,
   "metadata": {},
   "outputs": [],
   "source": [
    "sum = 0\n",
    "x = 1\n",
    "\n",
    "while x <= 100:\n",
    "    sum += x\n",
    "    x += 2\n",
    "    print(f\"{sum} + {x}\")\n",
    "\n",
    "print(sum)"
   ]
  },
  {
   "cell_type": "markdown",
   "metadata": {},
   "source": [
    "### Guess number game"
   ]
  },
  {
   "cell_type": "code",
   "execution_count": null,
   "metadata": {},
   "outputs": [],
   "source": [
    "import random as rnd \n",
    "\n",
    "rndNumber = rnd.randint(1, 101)\n",
    "print(rndNumber)\n",
    "nmbrOfGuess = 0\n",
    "userGuess = int(input(\"Gissa mellan 1 till 100\"))\n",
    "print(userGuess)\n",
    "\n",
    "while userGuess != rndNumber:\n",
    "    \n",
    "    if userGuess < rndNumber:\n",
    "       print(\"Fel! Gissa högre\")\n",
    "       nmbrOfGuess += 1\n",
    "    elif userGuess < rndNumber: \n",
    "        print(\"Fel! Gissa högre\")\n",
    "        nmbrOfGuess += 1\n",
    "    else:\n",
    "        print(\"Grattis du gissade rätt!\")\n",
    "\n",
    "    userGuess = int(input(\"Gissa mellan 1 till 100\"))\n",
    "\n",
    "\n",
    "\n",
    "print(nmbrOfGuess)\n"
   ]
  },
  {
   "cell_type": "code",
   "execution_count": 18,
   "metadata": {},
   "outputs": [
    {
     "name": "stdout",
     "output_type": "stream",
     "text": [
      "3\n",
      "5\n",
      "6\n",
      "9\n",
      "10\n",
      "12\n",
      "15\n",
      "18\n",
      "20\n",
      "21\n",
      "24\n",
      "25\n",
      "27\n",
      "30\n",
      "33\n",
      "35\n",
      "36\n",
      "39\n",
      "40\n",
      "42\n",
      "45\n",
      "48\n",
      "50\n",
      "51\n",
      "54\n",
      "55\n",
      "57\n",
      "60\n",
      "63\n",
      "65\n",
      "66\n",
      "69\n",
      "70\n",
      "72\n",
      "75\n",
      "78\n",
      "80\n",
      "81\n",
      "84\n",
      "85\n",
      "87\n",
      "90\n",
      "93\n",
      "95\n",
      "96\n",
      "99\n"
     ]
    },
    {
     "data": {
      "text/plain": [
       "2318"
      ]
     },
     "execution_count": 18,
     "metadata": {},
     "output_type": "execute_result"
    }
   ],
   "source": [
    "listan = (list(range(1, 100)))\n",
    "total = 0\n",
    "\n",
    "for e in listan:\n",
    "    if e % 3 == 0 or e % 5 == 0:\n",
    "        total += e\n",
    "        print(e)\n",
    "\n",
    "total"
   ]
  },
  {
   "cell_type": "code",
   "execution_count": null,
   "metadata": {},
   "outputs": [],
   "source": [
    "import math\n",
    "\n",
    "dir(math)"
   ]
  }
 ],
 "metadata": {
  "kernelspec": {
   "display_name": "venv",
   "language": "python",
   "name": "python3"
  },
  "language_info": {
   "codemirror_mode": {
    "name": "ipython",
    "version": 3
   },
   "file_extension": ".py",
   "mimetype": "text/x-python",
   "name": "python",
   "nbconvert_exporter": "python",
   "pygments_lexer": "ipython3",
   "version": "3.11.7"
  }
 },
 "nbformat": 4,
 "nbformat_minor": 2
}
