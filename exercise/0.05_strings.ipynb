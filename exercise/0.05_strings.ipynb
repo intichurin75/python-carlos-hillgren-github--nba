{
 "cells": [
  {
   "cell_type": "markdown",
   "metadata": {},
   "source": [
    "### 0. Counting letters"
   ]
  },
  {
   "cell_type": "code",
   "execution_count": 4,
   "metadata": {},
   "outputs": [
    {
     "name": "stdout",
     "output_type": "stream",
     "text": [
      "Antal bokstäver i Göteborg är: 8\n",
      "Antal gemener är: 7 och versaler är: 1\n"
     ]
    }
   ],
   "source": [
    "word = input(\"Mata in ett valfritt ord\")\n",
    "\n",
    "# A)\n",
    "letters = len(word)\n",
    "print(f\"Antal bokstäver i {word} är: {letters}\")\n",
    "\n",
    "#B)\n",
    "count_lower = 0 # räknare för stora o små bokstäver\n",
    "count_upper = 0\n",
    "\n",
    "for i in word: # loopa igenom ordet för varje bokstav\n",
    "    if i.islower():\n",
    "        count_lower+=1\n",
    "    elif i.isupper():\n",
    "        count_upper+=1\n",
    "\n",
    "print(f\"Antal gemener är: {count_lower} och versaler är: {count_upper}\")\n",
    "\n",
    "print()\n",
    "\n",
    "# alternativ i B övning.\n",
    "'''\n",
    "num_uppercase = sum(1 for letter in word if letter.isupper()) # 1, är en dummy varibel, Den används bara för att räkna antalet förekomster där letter.isupper() är sant, alltså antalet versaler i ordet\n",
    "num_lowercase = sum(1 for letter in word if letter.islower())\n",
    "print(f\"Antal versaler i ordet: {num_uppercase}\")\n",
    "print(f\"Antal gemener i ordet: {num_lowercase}\") '''"
   ]
  },
  {
   "cell_type": "markdown",
   "metadata": {},
   "source": [
    "### 1. Counting words"
   ]
  },
  {
   "cell_type": "code",
   "execution_count": 1,
   "metadata": {},
   "outputs": [
    {
     "name": "stdout",
     "output_type": "stream",
     "text": [
      "17\n",
      "Number of words 17\n"
     ]
    }
   ],
   "source": [
    "sentence = \"A picture says more than a thousand words, a matematical formula says more than a thousand pictures\" # string text\n",
    "split_txt = len(sentence.split())\n",
    "print(split_txt)\n",
    "print(f\"Number of words {split_txt}\") "
   ]
  },
  {
   "cell_type": "markdown",
   "metadata": {},
   "source": [
    "### Palindrome\n"
   ]
  },
  {
   "cell_type": "code",
   "execution_count": 4,
   "metadata": {},
   "outputs": [
    {
     "name": "stdout",
     "output_type": "stream",
     "text": [
      "olas alo\n",
      "olasalo\n"
     ]
    }
   ],
   "source": [
    "the_word = input(\"Mata in ett ord som är ett palindrom\") # ni talar bra latin\n",
    "reverse_string = the_word[::-1].lower() #vänder på texten \n",
    "print(reverse_string)\n",
    "\n",
    "reverse_string = reverse_string.replace(\" \", \"\").lower() # tar bort mellanslag i texten\n",
    "print(reverse_string)"
   ]
  },
  {
   "cell_type": "markdown",
   "metadata": {},
   "source": [
    "### Vowels"
   ]
  },
  {
   "cell_type": "code",
   "execution_count": 8,
   "metadata": {},
   "outputs": [
    {
     "name": "stdout",
     "output_type": "stream",
     "text": [
      "Vokalerna i texten är: \n",
      "u e a e a i i i i a e o e o o i a i e a Antal vokaler i texten: 20\n"
     ]
    }
   ],
   "source": [
    "sentence2 = \"Pure mathematics is, in it's way, the poetry of logical ideas \"\n",
    "vokaler = \"aeiouAEIOU\"\n",
    "\n",
    "vowel_count = 0\n",
    "\n",
    "print(\"Vokalerna i texten är: \")\n",
    "for char in sentence2:\n",
    "    if char in vokaler:\n",
    "        print(char, end= \" \")\n",
    "        vowel_count += 1\n",
    "\n",
    "\n",
    "print(f\"Antal vokaler i texten: {vowel_count}\")\n",
    "\n"
   ]
  },
  {
   "cell_type": "markdown",
   "metadata": {},
   "source": [
    "### Encryption ex. 1"
   ]
  },
  {
   "cell_type": "code",
   "execution_count": 12,
   "metadata": {},
   "outputs": [
    {
     "name": "stdout",
     "output_type": "stream",
     "text": [
      "Det krypterade meddelandet är: mpoepo\n"
     ]
    }
   ],
   "source": [
    "def kryptera_ordet (ordet):\n",
    "    krypterade_ordet = \"\"\n",
    "    for char in ordet:\n",
    "        if char .isalpha():\n",
    "            if char == 'z':\n",
    "                krypterade_ordet += 'a'\n",
    "            elif char == 'Z':\n",
    "                krypterade_ordet += 'A'\n",
    "            else:\n",
    "                krypterade_ordet += chr(ord(char)+ 1)\n",
    "        else:\n",
    "            krypterade_ordet += char\n",
    "    return krypterade_ordet\n",
    "\n",
    "word = input(\"Mata in ett ord: \")\n",
    "krypterade_mess = kryptera_ordet(word)\n",
    "print(f\"Det krypterade meddelandet är: {krypterade_mess}\")\n",
    "\n",
    "\n"
   ]
  },
  {
   "cell_type": "markdown",
   "metadata": {},
   "source": [
    "### Encryption ex.2"
   ]
  },
  {
   "cell_type": "code",
   "execution_count": 14,
   "metadata": {},
   "outputs": [
    {
     "name": "stdout",
     "output_type": "stream",
     "text": [
      "Det krypterade meddelandet är: mboepo\n"
     ]
    }
   ],
   "source": [
    "# Fråga användaren efter ett ord att kryptera\n",
    "word = input(\"Mata in ett ord för att kryptera: \")\n",
    "encrypted_word = \"\"\n",
    "\n",
    "# Loopa igenom varje tecken i ordet\n",
    "for char in word:\n",
    "    # KOntrollera om tecknet är en bokstav\n",
    "    if char.isalpha():\n",
    "        # Kryptera bokstaven genom att öka dess ASCII-värde med 1\n",
    "        # Om bokstaven är 'z' eller 'Z', ersätt den med 'a' eller 'A'\n",
    "        if char == 'z':\n",
    "            encrypted_word += 'a'\n",
    "        elif char == 'Z':\n",
    "            encrypted_word += 'A'\n",
    "        else:\n",
    "            encrypted_word += chr(ord(char) + 1)\n",
    "    else:\n",
    "        # Behåll andra tecken (t.ex. mellanslag eller skiljetecken) som de är\n",
    "        encrypted_word += char\n",
    "\n",
    "# Skriv ut det krypterade meddelandet \n",
    "print(f\"Det krypterade meddelandet är: {encrypted_word}\")\n",
    "        "
   ]
  }
 ],
 "metadata": {
  "kernelspec": {
   "display_name": "venv",
   "language": "python",
   "name": "python3"
  },
  "language_info": {
   "codemirror_mode": {
    "name": "ipython",
    "version": 3
   },
   "file_extension": ".py",
   "mimetype": "text/x-python",
   "name": "python",
   "nbconvert_exporter": "python",
   "pygments_lexer": "ipython3",
   "version": "3.11.7"
  }
 },
 "nbformat": 4,
 "nbformat_minor": 2
}
