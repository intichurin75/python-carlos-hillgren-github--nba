{
 "cells": [
  {
   "cell_type": "markdown",
   "metadata": {},
   "source": [
    "## OOP Polymorphism an inheritance"
   ]
  },
  {
   "cell_type": "code",
   "execution_count": null,
   "metadata": {},
   "outputs": [],
   "source": [
    "from helper_modules.oldcoins import OldCoinsStash\n",
    "OldCoinsStash(\"Ragnar\")"
   ]
  },
  {
   "cell_type": "code",
   "execution_count": null,
   "metadata": {},
   "outputs": [
    {
     "ename": "",
     "evalue": "",
     "output_type": "error",
     "traceback": [
      "\u001b[1;31mThe Kernel crashed while executing code in the current cell or a previous cell. \n",
      "\u001b[1;31mPlease review the code in the cell(s) to identify a possible cause of the failure. \n",
      "\u001b[1;31mClick <a href='https://aka.ms/vscodeJupyterKernelCrash'>here</a> for more info. \n",
      "\u001b[1;31mView Jupyter <a href='command:jupyter.viewOutput'>log</a> for further details."
     ]
    }
   ],
   "source": [
    "from numbers import Number\n",
    "\n",
    "class Person:\n",
    "    \"\"\"Base class with generic method and attributes shared by all subclasses\"\"\"\n",
    "    def __init__(self, name:str,age: int) -> None:\n",
    "        self.age = age\n",
    "        self.name = name\n",
    "        \n",
    "    @property\n",
    "    def age(self) -> int:\n",
    "        return self.age\n",
    "    @age.setter\n",
    "    def age(self,value:Number) -> None:\n",
    "        if not isinstance(value,Number):\n",
    "            raise TypeError(f\"Age must be a number not {type(value)}\")\n",
    "    \n",
    "        # validate that age is valid age \n",
    "        # VALIDATION CODE GOES HERE\n",
    "\n",
    "        self.age = value\n",
    "\n",
    "    # property for name with validation code in setter \n",
    "    def say_hi(self) -> None:\n",
    "        print(f\"Person {self.name} say hi\")\n",
    "\n",
    "p1 = Person(\"Calle\",45)\n",
    "p1.say_hi()\n",
    "\n",
    "try:\n",
    "    p2 = Person(\"Gore Bord\",\"trettiofem\")\n",
    "except TypeError as err:\n",
    "    print(err)\n",
    "\n"
   ]
  }
 ],
 "metadata": {
  "kernelspec": {
   "display_name": "venv",
   "language": "python",
   "name": "python3"
  },
  "language_info": {
   "codemirror_mode": {
    "name": "ipython",
    "version": 3
   },
   "file_extension": ".py",
   "mimetype": "text/x-python",
   "name": "python",
   "nbconvert_exporter": "python",
   "pygments_lexer": "ipython3",
   "version": "3.11.7"
  }
 },
 "nbformat": 4,
 "nbformat_minor": 2
}
